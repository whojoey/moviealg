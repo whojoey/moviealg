{
 "cells": [
  {
   "cell_type": "code",
   "execution_count": 205,
   "metadata": {},
   "outputs": [
    {
     "name": "stdout",
     "output_type": "stream",
     "text": [
      "              genre  popularity\n",
      "11        Adventure   47.856634\n",
      "9         Animation   47.795233\n",
      "4   Science Fiction   44.961127\n",
      "8           Fantasy   44.328318\n",
      "13           Action   38.781424\n"
     ]
    }
   ],
   "source": []
  },
  {
   "cell_type": "code",
   "execution_count": 148,
   "metadata": {
    "scrolled": true
   },
   "outputs": [
    {
     "name": "stdout",
     "output_type": "stream",
     "text": [
      "{'id': 0, 'name': 'Action'}\n"
     ]
    }
   ],
   "source": []
  },
  {
   "cell_type": "code",
   "execution_count": 41,
   "metadata": {},
   "outputs": [
    {
     "ename": "ImportError",
     "evalue": "No module named tmdb3",
     "output_type": "error",
     "traceback": [
      "\u001b[0;31m---------------------------------------------------------------------------\u001b[0m",
      "\u001b[0;31mImportError\u001b[0m                               Traceback (most recent call last)",
      "\u001b[0;32m<ipython-input-41-82ffe4e7ddc3>\u001b[0m in \u001b[0;36m<module>\u001b[0;34m()\u001b[0m\n\u001b[0;32m----> 1\u001b[0;31m \u001b[0;32mfrom\u001b[0m \u001b[0mtmdb3\u001b[0m \u001b[0;32mimport\u001b[0m \u001b[0mset_key\u001b[0m\u001b[0;34m\u001b[0m\u001b[0m\n\u001b[0m\u001b[1;32m      2\u001b[0m \u001b[0mset_key\u001b[0m\u001b[0;34m(\u001b[0m\u001b[0;34m'c7273cefc0afcebd1aa725f917431715'\u001b[0m\u001b[0;34m)\u001b[0m\u001b[0;34m\u001b[0m\u001b[0m\n\u001b[1;32m      3\u001b[0m \u001b[0;32mfrom\u001b[0m \u001b[0mtmdb3\u001b[0m \u001b[0;32mimport\u001b[0m \u001b[0msearchMovie\u001b[0m\u001b[0;34m\u001b[0m\u001b[0m\n\u001b[1;32m      4\u001b[0m \u001b[0mres\u001b[0m \u001b[0;34m=\u001b[0m \u001b[0msearchMovie\u001b[0m\u001b[0;34m(\u001b[0m\u001b[0;34m'Avengers Infinity'\u001b[0m\u001b[0;34m)\u001b[0m\u001b[0;34m\u001b[0m\u001b[0m\n\u001b[1;32m      5\u001b[0m \u001b[0;32mprint\u001b[0m\u001b[0;34m(\u001b[0m\u001b[0mres\u001b[0m\u001b[0;34m[\u001b[0m\u001b[0;34m'results'\u001b[0m\u001b[0;34m]\u001b[0m\u001b[0;34m)\u001b[0m\u001b[0;34m\u001b[0m\u001b[0m\n",
      "\u001b[0;31mImportError\u001b[0m: No module named tmdb3"
     ]
    }
   ],
   "source": []
  },
  {
   "cell_type": "code",
   "execution_count": 69,
   "metadata": {},
   "outputs": [
    {
     "name": "stdout",
     "output_type": "stream",
     "text": [
      "[[\"{0: 'Christian Bale', 1: 'Heath Ledger', 2: 'Aaron Eckhart', 3: 'Michael Caine', 4: 'Maggie Gyllenhaal', 5: 'Gary Oldman', 6: 'Morgan Freeman'}\"]]\n",
      "   id            title                                             genres                                               cast               crew  runtime  vote_count  monthFact  actorFact  genFact       budget       revenue  popularity  vote_average  IMDB  rotten  metaC release_date    created\n",
      "0  66  The Dark Knight  [{\"id\": 18, \"name\": \"Drama\"}, {\"id\": 28, \"name...  {0: 'Christian Bale', 1: 'Heath Ledger', 2: 'A...  Christopher Nolan      152       12002          1          1        1  185000000.0  1.004558e+09      187.32           8.2   0.9    0.94   0.82   2008-07-16 1980-06-05\n"
     ]
    }
   ],
   "source": []
  },
  {
   "cell_type": "code",
   "execution_count": null,
   "metadata": {},
   "outputs": [],
   "source": []
  }
 ],
 "metadata": {
  "kernelspec": {
   "display_name": "Python 2",
   "language": "python",
   "name": "python2"
  },
  "language_info": {
   "codemirror_mode": {
    "name": "ipython",
    "version": 2
   },
   "file_extension": ".py",
   "mimetype": "text/x-python",
   "name": "python",
   "nbconvert_exporter": "python",
   "pygments_lexer": "ipython2",
   "version": "2.7.14"
  }
 },
 "nbformat": 4,
 "nbformat_minor": 2
}
